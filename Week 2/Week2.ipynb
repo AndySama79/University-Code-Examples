{
 "cells": [
  {
   "cell_type": "code",
   "execution_count": null,
   "metadata": {},
   "outputs": [],
   "source": [
    "def fibo_iterative(N):\n",
    "    import numpy as np\n",
    "    F = np.zeros(6)"
   ]
  }
 ],
 "metadata": {
  "kernelspec": {
   "display_name": "Python 3.9.13 ('dsai')",
   "language": "python",
   "name": "python3"
  },
  "language_info": {
   "name": "python",
   "version": "3.9.13"
  },
  "orig_nbformat": 4,
  "vscode": {
   "interpreter": {
    "hash": "c25f429e98859885972c4c17c6201c6101c8247b55d4103620452e89e2354d88"
   }
  }
 },
 "nbformat": 4,
 "nbformat_minor": 2
}
